{
 "cells": [
  {
   "cell_type": "markdown",
   "metadata": {},
   "source": [
    "Still working geting JobID from SQS and calling this Message into Python \n",
    "inorder to make the code more stream line."
   ]
  },
  {
   "cell_type": "code",
   "execution_count": 3,
   "metadata": {
    "collapsed": true
   },
   "outputs": [],
   "source": [
    "import tensorflow as tf\n",
    "import boto3\n",
    "import json"
   ]
  },
  {
   "cell_type": "code",
   "execution_count": 4,
   "metadata": {
    "collapsed": true
   },
   "outputs": [],
   "source": [
    " client = boto3.client('rekognition')"
   ]
  },
  {
   "cell_type": "markdown",
   "metadata": {},
   "source": [
    "Using the Boto3 API Documantion call the the start label detection\n",
    "http://boto3.readthedocs.io/en/latest/reference/services/rekognition.html"
   ]
  },
  {
   "cell_type": "code",
   "execution_count": 6,
   "metadata": {
    "collapsed": true
   },
   "outputs": [],
   "source": [
    "response = client.start_label_detection(\n",
    "    Video={\n",
    "        'S3Object': {\n",
    "            'Bucket': '<BucketName>',\n",
    "            'Name': '<Video.mp4>'\n",
    "        }\n",
    "    },\n",
    "    MinConfidence=80,\n",
    "    NotificationChannel={\n",
    "        'SNSTopicArn': '<SNS TOPIC>',\n",
    "        'RoleArn': 'arn:aws:iam::<>:role/<ROLE>'\n",
    "    },\n",
    "    JobTag='VdeoClassification'\n",
    ")"
   ]
  },
  {
   "cell_type": "markdown",
   "metadata": {},
   "source": [
    "Before We can Use Label Detection within Rekognition, You would need to first create a SNS and SQS Topic. Following the Guide to get started.\n",
    "\n",
    "http://docs.aws.amazon.com/rekognition/latest/dg/video.html"
   ]
  },
  {
   "cell_type": "code",
   "execution_count": 41,
   "metadata": {
    "collapsed": true
   },
   "outputs": [],
   "source": [
    "response1 = client.get_label_detection(JobId='<JOBID>',\n",
    "                                      MaxResults=6,\n",
    "                                     )"
   ]
  },
  {
   "cell_type": "markdown",
   "metadata": {},
   "source": [
    "Print out the Response."
   ]
  },
  {
   "cell_type": "code",
   "execution_count": 48,
   "metadata": {},
   "outputs": [
    {
     "name": "stdout",
     "output_type": "stream",
     "text": [
      "{'VideoMetadata': {'FrameWidth': 1280, 'Format': 'QuickTime / MOV', 'Codec': 'h264', 'FrameRate': 30.0, 'FrameHeight': 720, 'DurationMillis': 33866}, 'JobStatus': 'SUCCEEDED', 'NextToken': 'Ce48oRMNDMs2uXkhaopxGblQ0iECAKQE1IifQe59wH7Vs1mDBU9uBaze0l36d+R8fCjfNx30', 'ResponseMetadata': {'HTTPStatusCode': 200, 'HTTPHeaders': {'connection': 'keep-alive', 'content-length': '710', 'x-amzn-requestid': 'e5fafa13-e5ae-11e7-8dee-2f5e5c03aebc', 'content-type': 'application/x-amz-json-1.1', 'date': 'Wed, 20 Dec 2017 17:55:00 GMT'}, 'RequestId': 'e5fafa13-e5ae-11e7-8dee-2f5e5c03aebc', 'RetryAttempts': 0}, 'Labels': [{'Timestamp': 3800, 'Label': {'Name': 'Text', 'Confidence': 83.4155044555664}}, {'Timestamp': 4000, 'Label': {'Name': 'Text', 'Confidence': 86.70570373535156}}, {'Timestamp': 4200, 'Label': {'Name': 'Text', 'Confidence': 81.4634017944336}}, {'Timestamp': 10800, 'Label': {'Name': 'Animal', 'Confidence': 88.13629913330078}}, {'Timestamp': 11000, 'Label': {'Name': 'Animal', 'Confidence': 90.14089965820312}}, {'Timestamp': 11200, 'Label': {'Name': 'Animal', 'Confidence': 91.90530395507812}}]}\n",
      "{'VideoMetadata': {'FrameWidth': 1280, 'Format': 'QuickTime / MOV', 'Codec': 'h264', 'FrameRate': 30.0, 'FrameHeight': 720, 'DurationMillis': 33866}, 'JobStatus': 'SUCCEEDED', 'NextToken': 'Ce48oRMNDMs2uXkhaopxGblQ0iECAKQE1IifQe59wH7Vs1mDBU9uBaze0l36d+R8fCjfNx30', 'ResponseMetadata': {'HTTPStatusCode': 200, 'HTTPHeaders': {'connection': 'keep-alive', 'content-length': '710', 'x-amzn-requestid': 'e5fafa13-e5ae-11e7-8dee-2f5e5c03aebc', 'content-type': 'application/x-amz-json-1.1', 'date': 'Wed, 20 Dec 2017 17:55:00 GMT'}, 'RequestId': 'e5fafa13-e5ae-11e7-8dee-2f5e5c03aebc', 'RetryAttempts': 0}, 'Labels': [{'Timestamp': 3800, 'Label': {'Name': 'Text', 'Confidence': 83.4155044555664}}, {'Timestamp': 4000, 'Label': {'Name': 'Text', 'Confidence': 86.70570373535156}}, {'Timestamp': 4200, 'Label': {'Name': 'Text', 'Confidence': 81.4634017944336}}, {'Timestamp': 10800, 'Label': {'Name': 'Animal', 'Confidence': 88.13629913330078}}, {'Timestamp': 11000, 'Label': {'Name': 'Animal', 'Confidence': 90.14089965820312}}, {'Timestamp': 11200, 'Label': {'Name': 'Animal', 'Confidence': 91.90530395507812}}]}\n",
      "{'VideoMetadata': {'FrameWidth': 1280, 'Format': 'QuickTime / MOV', 'Codec': 'h264', 'FrameRate': 30.0, 'FrameHeight': 720, 'DurationMillis': 33866}, 'JobStatus': 'SUCCEEDED', 'NextToken': 'Ce48oRMNDMs2uXkhaopxGblQ0iECAKQE1IifQe59wH7Vs1mDBU9uBaze0l36d+R8fCjfNx30', 'ResponseMetadata': {'HTTPStatusCode': 200, 'HTTPHeaders': {'connection': 'keep-alive', 'content-length': '710', 'x-amzn-requestid': 'e5fafa13-e5ae-11e7-8dee-2f5e5c03aebc', 'content-type': 'application/x-amz-json-1.1', 'date': 'Wed, 20 Dec 2017 17:55:00 GMT'}, 'RequestId': 'e5fafa13-e5ae-11e7-8dee-2f5e5c03aebc', 'RetryAttempts': 0}, 'Labels': [{'Timestamp': 3800, 'Label': {'Name': 'Text', 'Confidence': 83.4155044555664}}, {'Timestamp': 4000, 'Label': {'Name': 'Text', 'Confidence': 86.70570373535156}}, {'Timestamp': 4200, 'Label': {'Name': 'Text', 'Confidence': 81.4634017944336}}, {'Timestamp': 10800, 'Label': {'Name': 'Animal', 'Confidence': 88.13629913330078}}, {'Timestamp': 11000, 'Label': {'Name': 'Animal', 'Confidence': 90.14089965820312}}, {'Timestamp': 11200, 'Label': {'Name': 'Animal', 'Confidence': 91.90530395507812}}]}\n",
      "{'VideoMetadata': {'FrameWidth': 1280, 'Format': 'QuickTime / MOV', 'Codec': 'h264', 'FrameRate': 30.0, 'FrameHeight': 720, 'DurationMillis': 33866}, 'JobStatus': 'SUCCEEDED', 'NextToken': 'Ce48oRMNDMs2uXkhaopxGblQ0iECAKQE1IifQe59wH7Vs1mDBU9uBaze0l36d+R8fCjfNx30', 'ResponseMetadata': {'HTTPStatusCode': 200, 'HTTPHeaders': {'connection': 'keep-alive', 'content-length': '710', 'x-amzn-requestid': 'e5fafa13-e5ae-11e7-8dee-2f5e5c03aebc', 'content-type': 'application/x-amz-json-1.1', 'date': 'Wed, 20 Dec 2017 17:55:00 GMT'}, 'RequestId': 'e5fafa13-e5ae-11e7-8dee-2f5e5c03aebc', 'RetryAttempts': 0}, 'Labels': [{'Timestamp': 3800, 'Label': {'Name': 'Text', 'Confidence': 83.4155044555664}}, {'Timestamp': 4000, 'Label': {'Name': 'Text', 'Confidence': 86.70570373535156}}, {'Timestamp': 4200, 'Label': {'Name': 'Text', 'Confidence': 81.4634017944336}}, {'Timestamp': 10800, 'Label': {'Name': 'Animal', 'Confidence': 88.13629913330078}}, {'Timestamp': 11000, 'Label': {'Name': 'Animal', 'Confidence': 90.14089965820312}}, {'Timestamp': 11200, 'Label': {'Name': 'Animal', 'Confidence': 91.90530395507812}}]}\n",
      "{'VideoMetadata': {'FrameWidth': 1280, 'Format': 'QuickTime / MOV', 'Codec': 'h264', 'FrameRate': 30.0, 'FrameHeight': 720, 'DurationMillis': 33866}, 'JobStatus': 'SUCCEEDED', 'NextToken': 'Ce48oRMNDMs2uXkhaopxGblQ0iECAKQE1IifQe59wH7Vs1mDBU9uBaze0l36d+R8fCjfNx30', 'ResponseMetadata': {'HTTPStatusCode': 200, 'HTTPHeaders': {'connection': 'keep-alive', 'content-length': '710', 'x-amzn-requestid': 'e5fafa13-e5ae-11e7-8dee-2f5e5c03aebc', 'content-type': 'application/x-amz-json-1.1', 'date': 'Wed, 20 Dec 2017 17:55:00 GMT'}, 'RequestId': 'e5fafa13-e5ae-11e7-8dee-2f5e5c03aebc', 'RetryAttempts': 0}, 'Labels': [{'Timestamp': 3800, 'Label': {'Name': 'Text', 'Confidence': 83.4155044555664}}, {'Timestamp': 4000, 'Label': {'Name': 'Text', 'Confidence': 86.70570373535156}}, {'Timestamp': 4200, 'Label': {'Name': 'Text', 'Confidence': 81.4634017944336}}, {'Timestamp': 10800, 'Label': {'Name': 'Animal', 'Confidence': 88.13629913330078}}, {'Timestamp': 11000, 'Label': {'Name': 'Animal', 'Confidence': 90.14089965820312}}, {'Timestamp': 11200, 'Label': {'Name': 'Animal', 'Confidence': 91.90530395507812}}]}\n",
      "{'VideoMetadata': {'FrameWidth': 1280, 'Format': 'QuickTime / MOV', 'Codec': 'h264', 'FrameRate': 30.0, 'FrameHeight': 720, 'DurationMillis': 33866}, 'JobStatus': 'SUCCEEDED', 'NextToken': 'Ce48oRMNDMs2uXkhaopxGblQ0iECAKQE1IifQe59wH7Vs1mDBU9uBaze0l36d+R8fCjfNx30', 'ResponseMetadata': {'HTTPStatusCode': 200, 'HTTPHeaders': {'connection': 'keep-alive', 'content-length': '710', 'x-amzn-requestid': 'e5fafa13-e5ae-11e7-8dee-2f5e5c03aebc', 'content-type': 'application/x-amz-json-1.1', 'date': 'Wed, 20 Dec 2017 17:55:00 GMT'}, 'RequestId': 'e5fafa13-e5ae-11e7-8dee-2f5e5c03aebc', 'RetryAttempts': 0}, 'Labels': [{'Timestamp': 3800, 'Label': {'Name': 'Text', 'Confidence': 83.4155044555664}}, {'Timestamp': 4000, 'Label': {'Name': 'Text', 'Confidence': 86.70570373535156}}, {'Timestamp': 4200, 'Label': {'Name': 'Text', 'Confidence': 81.4634017944336}}, {'Timestamp': 10800, 'Label': {'Name': 'Animal', 'Confidence': 88.13629913330078}}, {'Timestamp': 11000, 'Label': {'Name': 'Animal', 'Confidence': 90.14089965820312}}, {'Timestamp': 11200, 'Label': {'Name': 'Animal', 'Confidence': 91.90530395507812}}]}\n"
     ]
    }
   ],
   "source": [
    "for label in response1['Labels']:\n",
    "    print(response)"
   ]
  },
  {
   "cell_type": "code",
   "execution_count": null,
   "metadata": {
    "collapsed": true
   },
   "outputs": [],
   "source": []
  }
 ],
 "metadata": {
  "kernelspec": {
   "display_name": "Python 3",
   "language": "python",
   "name": "python3"
  },
  "language_info": {
   "codemirror_mode": {
    "name": "ipython",
    "version": 3
   },
   "file_extension": ".py",
   "mimetype": "text/x-python",
   "name": "python",
   "nbconvert_exporter": "python",
   "pygments_lexer": "ipython3",
   "version": "3.5.2"
  }
 },
 "nbformat": 4,
 "nbformat_minor": 2
}
