{
 "cells": [
  {
   "cell_type": "code",
   "execution_count": 1,
   "metadata": {
    "collapsed": true
   },
   "outputs": [],
   "source": [
    "#!/usr/bin/python3\n",
    "import sys\n",
    "import boto3 #Import Boto For AWS\n",
    "import tinys3 #Import tinys3 For uploading Images to S3 Bucket\n",
    "from boto3 import client"
   ]
  },
  {
   "cell_type": "markdown",
   "metadata": {},
   "source": [
    "# upload a File to S3 Bucket."
   ]
  },
  {
   "cell_type": "code",
   "execution_count": 4,
   "metadata": {
    "collapsed": true
   },
   "outputs": [],
   "source": [
    "#AWS IAM Access Keys --> This Role only allows uploads to S3\n",
    "AWS_ACCESS_KEY_ID = ''\n",
    "AWS_SECRET_ACCESS_KEY = ''"
   ]
  },
  {
   "cell_type": "code",
   "execution_count": 7,
   "metadata": {},
   "outputs": [
    {
     "data": {
      "text/plain": [
       "<Response [200]>"
      ]
     },
     "execution_count": 7,
     "metadata": {},
     "output_type": "execute_result"
    }
   ],
   "source": [
    "# Creating a simple connection\n",
    "conn = tinys3.Connection(AWS_ACCESS_KEY_ID,AWS_SECRET_ACCESS_KEY)\n",
    "\n",
    "# Uploading a single file\n",
    "f = open('fox.jpg','rb')\n",
    "conn.upload('fox.jpg',f,'<YOURBUCKET>')"
   ]
  },
  {
   "cell_type": "code",
   "execution_count": 17,
   "metadata": {},
   "outputs": [],
   "source": [
    "#Connect to S3 Bucket\n",
    "s3 = boto3.resource('s3')\n",
    "bucket = s3.Bucket('<YourBucket>')"
   ]
  },
  {
   "cell_type": "code",
   "execution_count": 18,
   "metadata": {},
   "outputs": [
    {
     "name": "stdout",
     "output_type": "stream",
     "text": [
      "d.jpg\n",
      "images/\n",
      "images/Mario_(New_Super_Mario_Bros._2).png\n",
      "images/fox.jpg\n",
      "images/fox1.png\n"
     ]
    }
   ],
   "source": [
    "#List out Contents of the Bucket\n",
    "for file in bucket.objects.all():\n",
    "    print(file.key)"
   ]
  },
  {
   "cell_type": "code",
   "execution_count": 21,
   "metadata": {
    "collapsed": true
   },
   "outputs": [],
   "source": [
    "BUCKET = '<YOUR BUCKET'\n",
    "KEY = 'd.jpg'"
   ]
  },
  {
   "cell_type": "code",
   "execution_count": 22,
   "metadata": {
    "collapsed": true
   },
   "outputs": [],
   "source": [
    "def detect_labels(bucket, key, max_labels=10, min_confidence=90, region=\"eu-west-1\"):\n",
    "\trekognition = boto3.client(\"rekognition\", region)\n",
    "\tresponse = rekognition.detect_labels(\n",
    "\t\tImage={\n",
    "\t\t\t\"S3Object\": {\n",
    "\t\t\t\t\"Bucket\": bucket,\n",
    "\t\t\t\t\"Name\": key,\n",
    "\t\t\t}\n",
    "\t\t},\n",
    "\t\tMaxLabels=max_labels,\n",
    "\t\tMinConfidence=min_confidence,\n",
    "\t)\n",
    "\treturn response['Labels']"
   ]
  },
  {
   "cell_type": "code",
   "execution_count": 24,
   "metadata": {},
   "outputs": [
    {
     "name": "stdout",
     "output_type": "stream",
     "text": [
      "Animal - 98.40483856201172%\n",
      "Canine - 98.40483856201172%\n",
      "Dog - 98.40483856201172%\n",
      "Mammal - 98.40483856201172%\n",
      "Pet - 98.40483856201172%\n",
      "Puppy - 98.40483856201172%\n"
     ]
    }
   ],
   "source": [
    "for label in detect_labels(BUCKET,KEY):\n",
    "\tprint('{Name} - {Confidence}%'.format(**label))"
   ]
  },
  {
   "cell_type": "code",
   "execution_count": 25,
   "metadata": {},
   "outputs": [],
   "source": [
    "#Do Something With if Labels Match Fox\n",
    "for label in detect_labels(BUCKET,KEY):\n",
    "\tif('{Name}'.format(**label) == 'Fox'):\n",
    "\t\tprint('ITS A Fox!')"
   ]
  },
  {
   "cell_type": "code",
   "execution_count": 28,
   "metadata": {
    "collapsed": true
   },
   "outputs": [],
   "source": [
    "#Connect to S3 Bucket.\n",
    "client = boto3.client('s3')"
   ]
  },
  {
   "cell_type": "code",
   "execution_count": 29,
   "metadata": {},
   "outputs": [
    {
     "data": {
      "text/plain": [
       "{'ResponseMetadata': {'HTTPHeaders': {'date': 'Fri, 14 Jul 2017 08:59:23 GMT',\n",
       "   'server': 'AmazonS3',\n",
       "   'x-amz-id-2': 'U2aNYocJZ2wpe/2arLdbIVQzeXT4cIhXsB68AvYnbkdRpa/9BaQX8oHozo99b0ouE9yUGk3s3tM=',\n",
       "   'x-amz-request-id': '2C8F10FE4F5BFD93'},\n",
       "  'HTTPStatusCode': 204,\n",
       "  'HostId': 'U2aNYocJZ2wpe/2arLdbIVQzeXT4cIhXsB68AvYnbkdRpa/9BaQX8oHozo99b0ouE9yUGk3s3tM=',\n",
       "  'RequestId': '2C8F10FE4F5BFD93',\n",
       "  'RetryAttempts': 0}}"
      ]
     },
     "execution_count": 29,
     "metadata": {},
     "output_type": "execute_result"
    }
   ],
   "source": [
    "#Delete Image from S3 Bucket.\n",
    "client.delete_object(Bucket=BUCKET,Key=KEY)"
   ]
  },
  {
   "cell_type": "code",
   "execution_count": 30,
   "metadata": {},
   "outputs": [
    {
     "name": "stdout",
     "output_type": "stream",
     "text": [
      "images/\n",
      "images/Mario_(New_Super_Mario_Bros._2).png\n",
      "images/fox.jpg\n",
      "images/fox1.png\n"
     ]
    }
   ],
   "source": [
    "#Print All Content From S3 Bucket to Make Sure Image is Deleted. \n",
    "for file in bucket.objects.all():\n",
    "    print(file.key)"
   ]
  },
  {
   "cell_type": "code",
   "execution_count": null,
   "metadata": {
    "collapsed": true
   },
   "outputs": [],
   "source": []
  }
 ],
 "metadata": {
  "kernelspec": {
   "display_name": "Python 3",
   "language": "python",
   "name": "python3"
  },
  "language_info": {
   "codemirror_mode": {
    "name": "ipython",
    "version": 3
   },
   "file_extension": ".py",
   "mimetype": "text/x-python",
   "name": "python",
   "nbconvert_exporter": "python",
   "pygments_lexer": "ipython3",
   "version": "3.5.2"
  }
 },
 "nbformat": 4,
 "nbformat_minor": 2
}
